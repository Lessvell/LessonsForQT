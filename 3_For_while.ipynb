{
 "cells": [
  {
   "cell_type": "markdown",
   "metadata": {},
   "source": [
    "# Урок 3. Циклы for и while.\n",
    "\n",
    "### 3.1 Цикл for\n",
    "\n",
    "перебор элементов последовательности (список, кортеж, строка и др.)"
   ]
  },
  {
   "cell_type": "code",
   "execution_count": 1,
   "metadata": {},
   "outputs": [],
   "source": [
    "lis = [1, 2, 3, 'red', 'blue']"
   ]
  },
  {
   "cell_type": "code",
   "execution_count": 2,
   "metadata": {},
   "outputs": [
    {
     "name": "stdout",
     "output_type": "stream",
     "text": [
      "1\n",
      "2\n",
      "3\n",
      "red\n",
      "blue\n"
     ]
    }
   ],
   "source": [
    "for elem in lis:\n",
    "    print(elem)"
   ]
  },
  {
   "cell_type": "markdown",
   "metadata": {},
   "source": [
    "range(a, b, c)\n",
    "\n",
    "от а до b-1 с шагом c\n",
    "\n",
    "если шаг в обратном порядке (-c), то должно быть a > b\n",
    "\n",
    "range не хранит все значения в памяти, поэтому чтобы выводить все элементы в последовательности, мы можем использовать функцию list ()"
   ]
  },
  {
   "cell_type": "code",
   "execution_count": 7,
   "metadata": {},
   "outputs": [
    {
     "name": "stdout",
     "output_type": "stream",
     "text": [
      "hi!\n",
      "hi!\n",
      "hi!\n",
      "hi!\n",
      "hi!\n"
     ]
    }
   ],
   "source": [
    "for i in range(len(lis)):\n",
    "    print('hi!')"
   ]
  },
  {
   "cell_type": "code",
   "execution_count": 6,
   "metadata": {},
   "outputs": [
    {
     "name": "stdout",
     "output_type": "stream",
     "text": [
      "1 2 3 4 5 6 7 8 9 10 11 12 13 14 15 16 17 18 19 20 21 22 23 24 25 26 27 28 29 30 31 32 33 34 35 36 37 38 39 40 41 42 43 44 45 46 47 48 49 50 51 52 53 54 55 56 57 58 59 60 61 62 63 64 65 66 67 68 69 70 71 72 73 74 75 76 77 78 79 80 81 82 83 84 85 86 87 88 89 90 91 92 93 94 95 96 97 98 99 100\n"
     ]
    }
   ],
   "source": [
    "x = list(range(1, 101))\n",
    "print(*x)"
   ]
  },
  {
   "cell_type": "markdown",
   "metadata": {},
   "source": [
    "послед от 0 до 7"
   ]
  },
  {
   "cell_type": "code",
   "execution_count": 9,
   "metadata": {},
   "outputs": [
    {
     "name": "stdout",
     "output_type": "stream",
     "text": [
      "0\n",
      "1\n",
      "2\n",
      "3\n",
      "4\n",
      "5\n",
      "6\n",
      "7\n"
     ]
    }
   ],
   "source": [
    "for i in range(8):\n",
    "    print(i)"
   ]
  },
  {
   "cell_type": "markdown",
   "metadata": {},
   "source": [
    "послед от 2 до 23"
   ]
  },
  {
   "cell_type": "code",
   "execution_count": 10,
   "metadata": {},
   "outputs": [
    {
     "name": "stdout",
     "output_type": "stream",
     "text": [
      "2\n",
      "3\n",
      "4\n",
      "5\n",
      "6\n",
      "7\n",
      "8\n",
      "9\n",
      "10\n",
      "11\n",
      "12\n",
      "13\n",
      "14\n",
      "15\n",
      "16\n",
      "17\n",
      "18\n",
      "19\n",
      "20\n",
      "21\n",
      "22\n",
      "23\n"
     ]
    }
   ],
   "source": [
    "for i in range(2, 24):\n",
    "    print(i)"
   ]
  },
  {
   "cell_type": "markdown",
   "metadata": {},
   "source": [
    "послед от 1 до 9 нечетные"
   ]
  },
  {
   "cell_type": "code",
   "execution_count": 11,
   "metadata": {},
   "outputs": [
    {
     "name": "stdout",
     "output_type": "stream",
     "text": [
      "1\n",
      "3\n",
      "5\n",
      "7\n",
      "9\n"
     ]
    }
   ],
   "source": [
    "for i in range(1, 10, 2):\n",
    "    print(i)"
   ]
  },
  {
   "cell_type": "markdown",
   "metadata": {},
   "source": [
    "послед от 10 до 1"
   ]
  },
  {
   "cell_type": "code",
   "execution_count": 13,
   "metadata": {},
   "outputs": [
    {
     "name": "stdout",
     "output_type": "stream",
     "text": [
      "10\n",
      "9\n",
      "8\n",
      "7\n",
      "6\n",
      "5\n",
      "4\n",
      "3\n",
      "2\n",
      "1\n"
     ]
    }
   ],
   "source": [
    "for i in range(10, 0, -1):\n",
    "    print(i)"
   ]
  },
  {
   "cell_type": "markdown",
   "metadata": {},
   "source": [
    "послед от 100 до 1 кратные 5"
   ]
  },
  {
   "cell_type": "code",
   "execution_count": 15,
   "metadata": {},
   "outputs": [
    {
     "name": "stdout",
     "output_type": "stream",
     "text": [
      "100\n",
      "95\n",
      "90\n",
      "85\n",
      "80\n",
      "75\n",
      "70\n",
      "65\n",
      "60\n",
      "55\n",
      "50\n",
      "45\n",
      "40\n",
      "35\n",
      "30\n",
      "25\n",
      "20\n",
      "15\n",
      "10\n",
      "5\n"
     ]
    }
   ],
   "source": [
    "for i in range(100, 0, -5):\n",
    "    print(i)"
   ]
  },
  {
   "cell_type": "markdown",
   "metadata": {},
   "source": [
    "использование for:\n",
    "\n",
    "- для перебора элементов последовательности\n",
    "\n",
    "- для выполнения задачи сколько-то раз (range)"
   ]
  },
  {
   "cell_type": "code",
   "execution_count": 16,
   "metadata": {},
   "outputs": [
    {
     "data": {
      "text/plain": [
       "[[1, 2, 3], [4, 5, 6]]"
      ]
     },
     "execution_count": 16,
     "metadata": {},
     "output_type": "execute_result"
    }
   ],
   "source": [
    "matrix = [[1, 2, 3], [4, 5, 6]]\n",
    "matrix"
   ]
  },
  {
   "cell_type": "code",
   "execution_count": 17,
   "metadata": {},
   "outputs": [
    {
     "name": "stdout",
     "output_type": "stream",
     "text": [
      "[1, 2, 3]\n",
      "1\n",
      "2\n",
      "3\n",
      "[4, 5, 6]\n",
      "4\n",
      "5\n",
      "6\n"
     ]
    }
   ],
   "source": [
    "for i in range(len(matrix)): \n",
    "    print(matrix[i])\n",
    "    elem = matrix[i]\n",
    "    for j in range(len(elem)): \n",
    "        print(elem[j])"
   ]
  },
  {
   "cell_type": "markdown",
   "metadata": {},
   "source": [
    "### for/else\n",
    "\n",
    "Часть else выполняется, если элементы в последовательности, использованной в цикле for, исчерпываются."
   ]
  },
  {
   "cell_type": "code",
   "execution_count": 18,
   "metadata": {},
   "outputs": [
    {
     "name": "stdout",
     "output_type": "stream",
     "text": [
      "1\n",
      "2\n",
      "3\n",
      "4\n",
      "5\n",
      "Перечисление закончено\n"
     ]
    }
   ],
   "source": [
    "L1 = [1, 2, 3, 4, 5]\n",
    "\n",
    "for i in L1:\n",
    "    print(i)\n",
    "else:\n",
    "    print(\"Перечисление закончено\")"
   ]
  },
  {
   "cell_type": "markdown",
   "metadata": {},
   "source": [
    "## 3.2 Цикл while\n",
    "\n",
    "используется для перебора блока кода, пока проверочное условие истинно"
   ]
  },
  {
   "cell_type": "code",
   "execution_count": 19,
   "metadata": {},
   "outputs": [
    {
     "name": "stdout",
     "output_type": "stream",
     "text": [
      "10\n",
      "9\n",
      "8\n",
      "7\n",
      "6\n",
      "5\n",
      "4\n",
      "3\n",
      "2\n",
      "1\n",
      "0\n"
     ]
    }
   ],
   "source": [
    "a = 10\n",
    "\n",
    "while a >= 0:\n",
    "    print(a)\n",
    "    a -= 1"
   ]
  },
  {
   "cell_type": "markdown",
   "metadata": {},
   "source": [
    "### while/else\n",
    "\n",
    "Часть else выполняется, если условие в цикле while не является истинным"
   ]
  },
  {
   "cell_type": "code",
   "execution_count": 20,
   "metadata": {},
   "outputs": [
    {
     "name": "stdout",
     "output_type": "stream",
     "text": [
      "10\n",
      "9\n",
      "8\n",
      "7\n",
      "Цикл завершен\n"
     ]
    }
   ],
   "source": [
    "num = 10\n",
    "while num > 6:\n",
    "   print(num)\n",
    "   num -= 1\n",
    "else:\n",
    "   print(\"Цикл завершен\")"
   ]
  },
  {
   "cell_type": "markdown",
   "metadata": {},
   "source": [
    "### break/continue\n",
    "\n",
    "Оператор break досрочно прерывает цикл (в таких случаях часть else игнорируется). \n",
    "Оператор continue прерывает текущую итерацию цикла и начинает следующую."
   ]
  },
  {
   "cell_type": "code",
   "execution_count": 21,
   "metadata": {},
   "outputs": [
    {
     "name": "stdout",
     "output_type": "stream",
     "text": [
      "2\n",
      "4\n",
      "6\n",
      "3\n"
     ]
    }
   ],
   "source": [
    "myList_2 = [2, 4, 6, 3, 7, 8]\n",
    "\n",
    "for num in myList_2:  # какие числа напечатаются? \n",
    "    print(num)\n",
    "    if num % 2 != 0:\n",
    "        break"
   ]
  },
  {
   "cell_type": "code",
   "execution_count": 22,
   "metadata": {},
   "outputs": [
    {
     "name": "stdout",
     "output_type": "stream",
     "text": [
      "2\n",
      "4\n",
      "6\n"
     ]
    }
   ],
   "source": [
    "for num in myList_2:   # какие числа напечатаются? \n",
    "    if num % 2 != 0:\n",
    "        break\n",
    "    print(num)"
   ]
  },
  {
   "cell_type": "code",
   "execution_count": 24,
   "metadata": {},
   "outputs": [
    {
     "name": "stdout",
     "output_type": "stream",
     "text": [
      "2\n",
      "4\n",
      "6\n",
      "8\n",
      "zhopa\n"
     ]
    }
   ],
   "source": [
    "for num in myList_2:\n",
    "    if num % 2 != 0:\n",
    "        continue\n",
    "    print(num)\n",
    "else:\n",
    "    print('zhopa')"
   ]
  },
  {
   "cell_type": "code",
   "execution_count": 26,
   "metadata": {},
   "outputs": [
    {
     "name": "stdout",
     "output_type": "stream",
     "text": [
      "нечетное число: 1\n",
      "нечетное число: 3\n",
      "нечетное число: 3\n",
      "попалась омерзителная семёрка\n"
     ]
    }
   ],
   "source": [
    "# из этих чисел выводим только нечетные, а в конце - сколько было чётных, но мы ненавидим 7 \n",
    "\n",
    "myList = [2, 1, 4, 3, 3, 7, 6, 5]\n",
    "sum = 0\n",
    "\n",
    "for b in myList:\n",
    "    if b % 2 == 0:\n",
    "        sum += 1\n",
    "        continue \n",
    "    elif b % 7 == 0:\n",
    "        print('попалась омерзителная семёрка')\n",
    "        break\n",
    "    print(f'нечетное число: {b}')\n",
    "else:\n",
    "    print('цикл завершён. омерзителных семёрок не найдено')\n",
    "    print(f'четное встретилось {sum} раз')"
   ]
  },
  {
   "cell_type": "markdown",
   "metadata": {},
   "source": [
    "### Комментарий \n",
    "\n",
    "переназвание переменных\n"
   ]
  },
  {
   "cell_type": "code",
   "execution_count": 27,
   "metadata": {},
   "outputs": [
    {
     "data": {
      "text/plain": [
       "False"
      ]
     },
     "execution_count": 27,
     "metadata": {},
     "output_type": "execute_result"
    }
   ],
   "source": [
    "true = True\n",
    "false = False\n",
    "\n",
    "true, false = false, true\n",
    "\n",
    "true"
   ]
  },
  {
   "cell_type": "markdown",
   "metadata": {},
   "source": [
    "# Задания\n",
    "\n",
    "4. Цикл for\n",
    "\n",
    "Задача «Ряд - 2»\n",
    "\n",
    "Задача «Ряд - 2» (но реши теперь с одним циклом)\n",
    "\n",
    "Задача «Ряд - 3»\n",
    "\n",
    "Задача «Сумма N чисел»\n",
    "\n",
    "Задача «Сумма кубов»\n",
    "\n",
    "Задача «Сумма факториалов»\n",
    "\n",
    "Задача «Лесенка»\n",
    "\n",
    "6. Цикл while\n",
    "\n",
    "Задача «Список квадратов»\n",
    "\n",
    "Задача «Степень двойки»\n",
    "\n",
    "Задача «Утренняя пробежка»\n",
    "\n",
    "Задача «Среднее значение последовательности»\n",
    "\n",
    "Задача «Индекс максимума последовательности»\n",
    "\n",
    "Задача «Количество элементов, равных максимуму»\n"
   ]
  }
 ],
 "metadata": {
  "kernelspec": {
   "display_name": "Python 3",
   "language": "python",
   "name": "python3"
  },
  "language_info": {
   "codemirror_mode": {
    "name": "ipython",
    "version": 3
   },
   "file_extension": ".py",
   "mimetype": "text/x-python",
   "name": "python",
   "nbconvert_exporter": "python",
   "pygments_lexer": "ipython3",
   "version": "3.8.3"
  }
 },
 "nbformat": 4,
 "nbformat_minor": 4
}
